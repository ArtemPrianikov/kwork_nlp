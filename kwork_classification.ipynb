{
 "cells": [
  {
   "cell_type": "code",
   "execution_count": 43,
   "metadata": {},
   "outputs": [],
   "source": [
    "from pymongo import MongoClient\n",
    "import pandas as pda\n",
    "from html import parser\n",
    "import unicodedata\n",
    "import re\n",
    "import requests\n",
    "from nltk.tokenize import word_tokenize, wordpunct_tokenize\n",
    "from nltk import tokenize as tknz\n",
    "from nltk.corpus import stopwords\n",
    "from pymorphy2 import MorphAnalyzer\n",
    "from functools import lru_cache\n",
    "from multiprocessing import Pool\n",
    "from tqdm import tqdm_notebook as tqdm\n",
    "from stop_words import get_stop_words"
   ]
  },
  {
   "cell_type": "code",
   "execution_count": 54,
   "metadata": {},
   "outputs": [],
   "source": [
    "from typing import List"
   ]
  },
  {
   "cell_type": "code",
   "execution_count": 18,
   "metadata": {},
   "outputs": [],
   "source": [
    "pd.set_option('display.max_columns', None)  \n",
    "#pd.set_option('display.expand_frame_repr', True)\n",
    "pd.set_option('max_colwidth', 800)"
   ]
  },
  {
   "cell_type": "markdown",
   "metadata": {},
   "source": [
    "get data from db hosted locally and make df"
   ]
  },
  {
   "cell_type": "code",
   "execution_count": 19,
   "metadata": {},
   "outputs": [],
   "source": [
    "client = MongoClient('localhost', 27017)\n",
    "db = client['kwork']\n",
    "mycol = db['col2']\n",
    "all_obj = mycol.find()"
   ]
  },
  {
   "cell_type": "code",
   "execution_count": 20,
   "metadata": {},
   "outputs": [],
   "source": [
    "df = pd.DataFrame(data=list(all_obj))"
   ]
  },
  {
   "cell_type": "code",
   "execution_count": 21,
   "metadata": {},
   "outputs": [
    {
     "data": {
      "text/html": [
       "<div>\n",
       "<style scoped>\n",
       "    .dataframe tbody tr th:only-of-type {\n",
       "        vertical-align: middle;\n",
       "    }\n",
       "\n",
       "    .dataframe tbody tr th {\n",
       "        vertical-align: top;\n",
       "    }\n",
       "\n",
       "    .dataframe thead th {\n",
       "        text-align: right;\n",
       "    }\n",
       "</style>\n",
       "<table border=\"1\" class=\"dataframe\">\n",
       "  <thead>\n",
       "    <tr style=\"text-align: right;\">\n",
       "      <th></th>\n",
       "      <th>_id</th>\n",
       "      <th>name</th>\n",
       "      <th>description</th>\n",
       "      <th>price</th>\n",
       "      <th>max_price</th>\n",
       "      <th>currency</th>\n",
       "      <th>buyer_info</th>\n",
       "      <th>link</th>\n",
       "      <th>time_scraped</th>\n",
       "      <th>time_left</th>\n",
       "    </tr>\n",
       "  </thead>\n",
       "  <tbody>\n",
       "    <tr>\n",
       "      <th>0</th>\n",
       "      <td>1023022</td>\n",
       "      <td>Создание сайта</td>\n",
       "      <td>Здравствуйте. Требуется создание сайта для компании, оказывающей услуги дизайна, рекламы и продвижения в сети. Желательно на Тильде, т.к. мне будет удобно производить дальнейшее редактирование информации на нём. Сайт необходимо будет наполнить контентом- картинки и текст. Текст нужно будет просто скопировать с другого сайта и внести небольшие поправки с намеком на уникальность. Картинки можно подобрать абстрактные. Оригинальный дизайн не требуется- достаточно будет подобрать типовой шаблонный дизайн. Создание личного кабинета и подключение платежных систем не требуется. Достаточно будет формы &amp;quot; Заказать обратный звонок&amp;quot;.</td>\n",
       "      <td>15000.00</td>\n",
       "      <td>45 000</td>\n",
       "      <td>RUB</td>\n",
       "      <td>{'buyer_name': 'Ilona_Mois', 'buyer_link': 'https://kwork.ru/user/ilona_mois', 'buyer_status': '', 'projects_offered': '4', 'fulfilled': '0%', 'offers': '0'}</td>\n",
       "      <td>https://kwork.ru/projects/1023022</td>\n",
       "      <td>2020-11-19 19:18:22.807</td>\n",
       "      <td>1 день 23 часа</td>\n",
       "    </tr>\n",
       "    <tr>\n",
       "      <th>1</th>\n",
       "      <td>1023019</td>\n",
       "      <td>Съемка познавательных и развивающих  игр с детьми</td>\n",
       "      <td>Здравствуйте!!!Если вы педагог,воспитатель и вы любите заниматься с детишками, то Я ИЩУ именно ВАС!!Что мне нужно?От вас нужно видео занимательных,познавательных и обучающих мини-занятий и игр для детей  от 1-5 лет.Видео с монтажом на 5-8 мин.Бюджет-500р/занятие</td>\n",
       "      <td>500.00</td>\n",
       "      <td></td>\n",
       "      <td>RUB</td>\n",
       "      <td>{'buyer_name': 'reok1979zx', 'buyer_link': 'https://kwork.ru/user/reok1979zx', 'buyer_status': 'Опытный покупатель', 'projects_offered': '18', 'fulfilled': '22%', 'offers': '0'}</td>\n",
       "      <td>https://kwork.ru/projects/1023019</td>\n",
       "      <td>2020-11-19 19:18:22.831</td>\n",
       "      <td>23 часа 58 минут</td>\n",
       "    </tr>\n",
       "    <tr>\n",
       "      <th>2</th>\n",
       "      <td>1023018</td>\n",
       "      <td>Перенести сайт на Yii framework на хостинг IHC.ru</td>\n",
       "      <td>Задача:  \\nПеренести сайт kladovaya1.ru (Yii framework) на новый хостинг (IHC.ru), подключить SSL (с помощью бесплатного Let&amp;rsquo;s Encrypt сертификата от IHC), убедиться в полной работоспособности после переноса.  \\nБудут предоставлены данные для переноса: \\nАдмин-панель сайта  \\nДоступ к FTP текущего сайта  \\nАрхив с БД текущего сайта  \\nДоступ к новому хостингу  \\nНеобходимый результат работы:  \\nДомен сайта прикреплен к новому хостингу, сайт открывается по https (настроен редирект с http), полностью функционирует, работает доступ в админ-панель.  \\n(!!!) Ищем специалиста для долгосрочного сотрудничества. После переноса сайта будем планомерно перерабатывать весь сайт в плане юзабилити и SEO</td>\n",
       "      <td>1500.00</td>\n",
       "      <td>4 500</td>\n",
       "      <td>RUB</td>\n",
       "      <td>{'buyer_name': 'EMarketing', 'buyer_link': 'https://kwork.ru/user/emarketing', 'buyer_status': 'Очень мощный покупатель', 'projects_offered': '90', 'fulfilled': '40%', 'offers': '0'}</td>\n",
       "      <td>https://kwork.ru/projects/1023018</td>\n",
       "      <td>2020-11-19 19:18:22.777</td>\n",
       "      <td>23 часа 57 минут</td>\n",
       "    </tr>\n",
       "    <tr>\n",
       "      <th>3</th>\n",
       "      <td>1023015</td>\n",
       "      <td>Эвотор синхронизировать с сайтом</td>\n",
       "      <td>Нужно синхронизировать товарные остатки в программе эвотор с интернет магазином</td>\n",
       "      <td>500.00</td>\n",
       "      <td>1 500</td>\n",
       "      <td>RUB</td>\n",
       "      <td>{'buyer_name': 'lemon0125', 'buyer_link': 'https://kwork.ru/user/lemon0125', 'buyer_status': '', 'projects_offered': '5', 'fulfilled': '40%', 'offers': '0'}</td>\n",
       "      <td>https://kwork.ru/projects/1023015</td>\n",
       "      <td>2020-11-19 19:18:24.463</td>\n",
       "      <td>23 часа 55 минут</td>\n",
       "    </tr>\n",
       "    <tr>\n",
       "      <th>4</th>\n",
       "      <td>1023013</td>\n",
       "      <td>Нужен таргетолог в транспортную компанию</td>\n",
       "      <td>Добрый день! \\nНужен таргетолог по продвижению группы в соц. сети Инстаграм. \\nСфера: транспортная компания, грузоперевозки. \\nОчень важна эффективная работа и опыт работы! За ценой не постоим. \\nПрошу написать ваши предложения по стоимости ваших услуг. \\nСпасибо!</td>\n",
       "      <td>12000.00</td>\n",
       "      <td>36 000</td>\n",
       "      <td>RUB</td>\n",
       "      <td>{'buyer_name': 'Marina_Khromtchenko', 'buyer_link': 'https://kwork.ru/user/marina_khromtchenko', 'buyer_status': '', 'projects_offered': '10', 'fulfilled': '20%', 'offers': '1'}</td>\n",
       "      <td>https://kwork.ru/projects/1023013</td>\n",
       "      <td>2020-11-19 19:18:24.510</td>\n",
       "      <td>1 день 23 часа</td>\n",
       "    </tr>\n",
       "  </tbody>\n",
       "</table>\n",
       "</div>"
      ],
      "text/plain": [
       "       _id                                               name  \\\n",
       "0  1023022                                     Создание сайта   \n",
       "1  1023019  Съемка познавательных и развивающих  игр с детьми   \n",
       "2  1023018  Перенести сайт на Yii framework на хостинг IHC.ru   \n",
       "3  1023015                   Эвотор синхронизировать с сайтом   \n",
       "4  1023013           Нужен таргетолог в транспортную компанию   \n",
       "\n",
       "                                                                                                                                                                                                                                                                                                                                                                                                                                                                                                                                                                                                                                                                                                                       description  \\\n",
       "0                                                                   Здравствуйте. Требуется создание сайта для компании, оказывающей услуги дизайна, рекламы и продвижения в сети. Желательно на Тильде, т.к. мне будет удобно производить дальнейшее редактирование информации на нём. Сайт необходимо будет наполнить контентом- картинки и текст. Текст нужно будет просто скопировать с другого сайта и внести небольшие поправки с намеком на уникальность. Картинки можно подобрать абстрактные. Оригинальный дизайн не требуется- достаточно будет подобрать типовой шаблонный дизайн. Создание личного кабинета и подключение платежных систем не требуется. Достаточно будет формы &quot; Заказать обратный звонок&quot;.   \n",
       "1                                                                                                                                                                                                                                                                                                                                                                                                                                                           Здравствуйте!!!Если вы педагог,воспитатель и вы любите заниматься с детишками, то Я ИЩУ именно ВАС!!Что мне нужно?От вас нужно видео занимательных,познавательных и обучающих мини-занятий и игр для детей  от 1-5 лет.Видео с монтажом на 5-8 мин.Бюджет-500р/занятие   \n",
       "2  Задача:  \\nПеренести сайт kladovaya1.ru (Yii framework) на новый хостинг (IHC.ru), подключить SSL (с помощью бесплатного Let&rsquo;s Encrypt сертификата от IHC), убедиться в полной работоспособности после переноса.  \\nБудут предоставлены данные для переноса: \\nАдмин-панель сайта  \\nДоступ к FTP текущего сайта  \\nАрхив с БД текущего сайта  \\nДоступ к новому хостингу  \\nНеобходимый результат работы:  \\nДомен сайта прикреплен к новому хостингу, сайт открывается по https (настроен редирект с http), полностью функционирует, работает доступ в админ-панель.  \\n(!!!) Ищем специалиста для долгосрочного сотрудничества. После переноса сайта будем планомерно перерабатывать весь сайт в плане юзабилити и SEO   \n",
       "3                                                                                                                                                                                                                                                                                                                                                                                                                                                                                                                                                                                                                                                  Нужно синхронизировать товарные остатки в программе эвотор с интернет магазином   \n",
       "4                                                                                                                                                                                                                                                                                                                                                                                                                                                         Добрый день! \\nНужен таргетолог по продвижению группы в соц. сети Инстаграм. \\nСфера: транспортная компания, грузоперевозки. \\nОчень важна эффективная работа и опыт работы! За ценой не постоим. \\nПрошу написать ваши предложения по стоимости ваших услуг. \\nСпасибо!   \n",
       "\n",
       "      price max_price currency  \\\n",
       "0  15000.00    45 000      RUB   \n",
       "1    500.00                RUB   \n",
       "2   1500.00     4 500      RUB   \n",
       "3    500.00     1 500      RUB   \n",
       "4  12000.00    36 000      RUB   \n",
       "\n",
       "                                                                                                                                                                               buyer_info  \\\n",
       "0                           {'buyer_name': 'Ilona_Mois', 'buyer_link': 'https://kwork.ru/user/ilona_mois', 'buyer_status': '', 'projects_offered': '4', 'fulfilled': '0%', 'offers': '0'}   \n",
       "1       {'buyer_name': 'reok1979zx', 'buyer_link': 'https://kwork.ru/user/reok1979zx', 'buyer_status': 'Опытный покупатель', 'projects_offered': '18', 'fulfilled': '22%', 'offers': '0'}   \n",
       "2  {'buyer_name': 'EMarketing', 'buyer_link': 'https://kwork.ru/user/emarketing', 'buyer_status': 'Очень мощный покупатель', 'projects_offered': '90', 'fulfilled': '40%', 'offers': '0'}   \n",
       "3                            {'buyer_name': 'lemon0125', 'buyer_link': 'https://kwork.ru/user/lemon0125', 'buyer_status': '', 'projects_offered': '5', 'fulfilled': '40%', 'offers': '0'}   \n",
       "4       {'buyer_name': 'Marina_Khromtchenko', 'buyer_link': 'https://kwork.ru/user/marina_khromtchenko', 'buyer_status': '', 'projects_offered': '10', 'fulfilled': '20%', 'offers': '1'}   \n",
       "\n",
       "                                link            time_scraped         time_left  \n",
       "0  https://kwork.ru/projects/1023022 2020-11-19 19:18:22.807    1 день 23 часа  \n",
       "1  https://kwork.ru/projects/1023019 2020-11-19 19:18:22.831  23 часа 58 минут  \n",
       "2  https://kwork.ru/projects/1023018 2020-11-19 19:18:22.777  23 часа 57 минут  \n",
       "3  https://kwork.ru/projects/1023015 2020-11-19 19:18:24.463  23 часа 55 минут  \n",
       "4  https://kwork.ru/projects/1023013 2020-11-19 19:18:24.510    1 день 23 часа  "
      ]
     },
     "execution_count": 21,
     "metadata": {},
     "output_type": "execute_result"
    }
   ],
   "source": [
    "df.head()"
   ]
  },
  {
   "cell_type": "markdown",
   "metadata": {},
   "source": [
    "### Plan\n",
    "1. Lower\n",
    "2. Tokenize\n",
    "3. Remove stopwords\n",
    "4. Lemmatize words"
   ]
  },
  {
   "cell_type": "code",
   "execution_count": 13,
   "metadata": {},
   "outputs": [],
   "source": [
    "m = MorphAnalyzer()\n",
    "\n",
    "# remove all non-letters from text\n",
    "regex = re.compile(\"[А-Яа-яA-z]+\")\n",
    "\n",
    "def words_only(text, regex=regex):\n",
    "    try:\n",
    "        return regex.findall(text.lower())\n",
    "    except:\n",
    "        return []"
   ]
  },
  {
   "cell_type": "code",
   "execution_count": null,
   "metadata": {},
   "outputs": [],
   "source": [
    "def lemmatize_word(token: str, pymorphy: MorphAnalyzer = m) -> str:\n",
    "    return pymorphy.parse(token)[0].normal_form\n",
    "\n",
    "def lemmatize_text(text: List[str]) -> List[str]:\n",
    "    return [lemmatize_word(w) for w in text]"
   ]
  },
  {
   "cell_type": "code",
   "execution_count": 12,
   "metadata": {},
   "outputs": [],
   "source": [
    "@lru_cache(maxsize=128)\n",
    "def lemmatize_word(token, pymorphy=m):\n",
    "    return pymorphy.parse(token)[0].normal_form\n",
    "\n",
    "def lemmatize_text(text):\n",
    "    return [lemmatize_word(w) for w in text]"
   ]
  },
  {
   "cell_type": "code",
   "execution_count": 53,
   "metadata": {},
   "outputs": [],
   "source": [
    "def remove_stopwords(lemmas: List[str], stop_words: List[str] = mystopwords) -> List[str]:\n",
    "    return [w for w in lemmas if w not in stop_words]"
   ]
  },
  {
   "cell_type": "code",
   "execution_count": 29,
   "metadata": {},
   "outputs": [],
   "source": [
    "def remove_stopwords(lemmas, stop_words = mystopwords):\n",
    "    return [w for w in lemmas if w not in stop_words]"
   ]
  },
  {
   "cell_type": "markdown",
   "metadata": {},
   "source": [
    "For russian language we use two lists of stopwords from different libraries  \n",
    "(see import ```from nltk.corpus import stopwords``` and ```from stop_words import get_stop_words``` above)"
   ]
  },
  {
   "cell_type": "code",
   "execution_count": 44,
   "metadata": {},
   "outputs": [],
   "source": [
    "stopwords1 = stopwords.words('russian')\n",
    "stopwords2 = get_stop_words('ru')\n",
    "stopwords_all = list(set(stopwords2)|set(stopwords1))"
   ]
  },
  {
   "cell_type": "code",
   "execution_count": 48,
   "metadata": {},
   "outputs": [],
   "source": [
    "li = ['a', ' bc ', ' cd ', 'fgf']"
   ]
  },
  {
   "cell_type": "code",
   "execution_count": 52,
   "metadata": {},
   "outputs": [
    {
     "data": {
      "text/plain": [
       "['здравствуйте',\n",
       " 'требуется',\n",
       " 'создание',\n",
       " 'сайта',\n",
       " 'для',\n",
       " 'компании',\n",
       " 'оказывающей',\n",
       " 'услуги',\n",
       " 'дизайна',\n",
       " 'рекламы',\n",
       " 'и',\n",
       " 'продвижения',\n",
       " 'в',\n",
       " 'сети',\n",
       " 'желательно',\n",
       " 'на',\n",
       " 'тильде',\n",
       " 'т',\n",
       " 'к',\n",
       " 'мне',\n",
       " 'будет',\n",
       " 'удобно',\n",
       " 'производить',\n",
       " 'дальнейшее',\n",
       " 'редактирование',\n",
       " 'информации',\n",
       " 'на',\n",
       " 'н',\n",
       " 'м',\n",
       " 'сайт',\n",
       " 'необходимо',\n",
       " 'будет',\n",
       " 'наполнить',\n",
       " 'контентом',\n",
       " 'картинки',\n",
       " 'и',\n",
       " 'текст',\n",
       " 'текст',\n",
       " 'нужно',\n",
       " 'будет',\n",
       " 'просто',\n",
       " 'скопировать',\n",
       " 'с',\n",
       " 'другого',\n",
       " 'сайта',\n",
       " 'и',\n",
       " 'внести',\n",
       " 'небольшие',\n",
       " 'поправки',\n",
       " 'с',\n",
       " 'намеком',\n",
       " 'на',\n",
       " 'уникальность',\n",
       " 'картинки',\n",
       " 'можно',\n",
       " 'подобрать',\n",
       " 'абстрактные',\n",
       " 'оригинальный',\n",
       " 'дизайн',\n",
       " 'не',\n",
       " 'требуется',\n",
       " 'достаточно',\n",
       " 'будет',\n",
       " 'подобрать',\n",
       " 'типовой',\n",
       " 'шаблонный',\n",
       " 'дизайн',\n",
       " 'создание',\n",
       " 'личного',\n",
       " 'кабинета',\n",
       " 'и',\n",
       " 'подключение',\n",
       " 'платежных',\n",
       " 'систем',\n",
       " 'не',\n",
       " 'требуется',\n",
       " 'достаточно',\n",
       " 'будет',\n",
       " 'формы',\n",
       " 'quot',\n",
       " 'заказать',\n",
       " 'обратный',\n",
       " 'звонок',\n",
       " 'quot']"
      ]
     },
     "execution_count": 52,
     "metadata": {},
     "output_type": "execute_result"
    }
   ],
   "source": [
    "words_only(df.description[0])"
   ]
  },
  {
   "cell_type": "code",
   "execution_count": null,
   "metadata": {},
   "outputs": [],
   "source": []
  }
 ],
 "metadata": {
  "kernelspec": {
   "display_name": "Python 3",
   "language": "python",
   "name": "python3"
  },
  "language_info": {
   "codemirror_mode": {
    "name": "ipython",
    "version": 3
   },
   "file_extension": ".py",
   "mimetype": "text/x-python",
   "name": "python",
   "nbconvert_exporter": "python",
   "pygments_lexer": "ipython3",
   "version": "3.7.4"
  }
 },
 "nbformat": 4,
 "nbformat_minor": 2
}
